{
  "nbformat": 4,
  "nbformat_minor": 0,
  "metadata": {
    "colab": {
      "provenance": [],
      "toc_visible": true,
      "gpuType": "T4",
      "authorship_tag": "ABX9TyMCJ8yVIn0267kEDzkhx/dF",
      "include_colab_link": true
    },
    "kernelspec": {
      "name": "python3",
      "display_name": "Python 3"
    },
    "language_info": {
      "name": "python"
    },
    "accelerator": "GPU"
  },
  "cells": [
    {
      "cell_type": "markdown",
      "metadata": {
        "id": "view-in-github",
        "colab_type": "text"
      },
      "source": [
        "<a href=\"https://colab.research.google.com/github/GabrielFurnielesGarcia/deeplearning-2024/blob/main/IAGenerativa/LAB03_1_VAE.ipynb\" target=\"_parent\"><img src=\"https://colab.research.google.com/assets/colab-badge.svg\" alt=\"Open In Colab\"/></a>"
      ]
    },
    {
      "cell_type": "markdown",
      "source": [
        "\n",
        "# LAB 03 - Ejercicio 1 - Variational Autoencoder\n",
        "#### Gabriel Furnieles y Sofia Ángel"
      ],
      "metadata": {
        "id": "DzZiwFwBiVwJ"
      }
    },
    {
      "cell_type": "markdown",
      "source": [
        "## Librerías necesarias"
      ],
      "metadata": {
        "id": "foho107uiefX"
      }
    },
    {
      "cell_type": "code",
      "source": [
        "import numpy as np\n",
        "import tensorflow as tf\n",
        "import matplotlib.pyplot as plt\n",
        "from tensorflow.keras.datasets import fashion_mnist\n",
        "from tensorflow.keras.optimizers import Adam\n",
        "from tensorflow.keras import layers, Model, metrics, losses"
      ],
      "metadata": {
        "id": "6VaHPlIYapg8"
      },
      "execution_count": 17,
      "outputs": []
    },
    {
      "cell_type": "markdown",
      "source": [
        "## Carga y preprocesamiento del dataset"
      ],
      "metadata": {
        "id": "dAIciVyhi1Bf"
      }
    },
    {
      "cell_type": "code",
      "execution_count": 18,
      "metadata": {
        "id": "viO8a7_BahEe"
      },
      "outputs": [],
      "source": [
        "# Cargar y preprocesar Fashion MNIST\n",
        "(x_train, _), (x_test, _) = fashion_mnist.load_data()\n",
        "fashion_mnist = np.concatenate([x_train, x_test], axis=0)\n",
        "fashion_mnist = np.expand_dims(fashion_mnist, -1).astype(\"float32\") / 255"
      ]
    },
    {
      "cell_type": "markdown",
      "source": [
        "## Implementando un VAE con Keras"
      ],
      "metadata": {
        "id": "tpUjPqGejjmK"
      }
    },
    {
      "cell_type": "markdown",
      "source": [
        "Vamos a implementar un **VAE que pueda generar dígitos MNIST**. Va a tener tres partes:\n",
        "* Una **red encoder** que **convierte una imagen real** en una **media y una varianza en el espacio latente**\n",
        "* Una **capa de muestreo** que **toma dicha media y varianza**, y las usa para **muestrear un punto aleatorio del espacio latente**\n",
        "* Una **red decoder** que **convierte los puntos del espacio latente en imágenes**"
      ],
      "metadata": {
        "id": "iheQ5nUFjGpM"
      }
    },
    {
      "cell_type": "markdown",
      "source": [
        "### Modelo 1"
      ],
      "metadata": {
        "id": "xvgMWkgHOh55"
      }
    },
    {
      "cell_type": "code",
      "source": [
        "# Dimensionalidad del espacio latente, un plano 2D\n",
        "latent_dim = 2\n",
        "\n",
        "# Encoder\n",
        "encoder_inputs = layers.Input(shape=(28, 28, 1))\n",
        "x = layers.Conv2D(32, 3, activation=\"relu\", strides=2, padding=\"same\")(encoder_inputs)\n",
        "x = layers.Conv2D(64, 3, activation=\"relu\", strides=2, padding=\"same\")(x)\n",
        "x = layers.Flatten()(x)\n",
        "x = layers.Dense(16, activation=\"relu\")(x)\n",
        "z_mean = layers.Dense(latent_dim, name=\"z_mean\")(x)\n",
        "z_log_var = layers.Dense(latent_dim, name=\"z_log_var\")(x)\n",
        "encoder = Model(encoder_inputs, [z_mean, z_log_var], name=\"encoder\")"
      ],
      "metadata": {
        "id": "sKF4PtgDbzDa"
      },
      "execution_count": 19,
      "outputs": []
    },
    {
      "cell_type": "code",
      "source": [
        "encoder.summary()"
      ],
      "metadata": {
        "colab": {
          "base_uri": "https://localhost:8080/"
        },
        "id": "w1ardAELj0R8",
        "outputId": "bb5941a1-00d0-4535-994c-0dacff692f31"
      },
      "execution_count": 20,
      "outputs": [
        {
          "output_type": "stream",
          "name": "stdout",
          "text": [
            "Model: \"encoder\"\n",
            "__________________________________________________________________________________________________\n",
            " Layer (type)                Output Shape                 Param #   Connected to                  \n",
            "==================================================================================================\n",
            " input_4 (InputLayer)        [(None, 28, 28, 1)]          0         []                            \n",
            "                                                                                                  \n",
            " conv2d_4 (Conv2D)           (None, 14, 14, 32)           320       ['input_4[0][0]']             \n",
            "                                                                                                  \n",
            " conv2d_5 (Conv2D)           (None, 7, 7, 64)             18496     ['conv2d_4[0][0]']            \n",
            "                                                                                                  \n",
            " flatten_1 (Flatten)         (None, 3136)                 0         ['conv2d_5[0][0]']            \n",
            "                                                                                                  \n",
            " dense_3 (Dense)             (None, 16)                   50192     ['flatten_1[0][0]']           \n",
            "                                                                                                  \n",
            " z_mean (Dense)              (None, 2)                    34        ['dense_3[0][0]']             \n",
            "                                                                                                  \n",
            " z_log_var (Dense)           (None, 2)                    34        ['dense_3[0][0]']             \n",
            "                                                                                                  \n",
            "==================================================================================================\n",
            "Total params: 69076 (269.83 KB)\n",
            "Trainable params: 69076 (269.83 KB)\n",
            "Non-trainable params: 0 (0.00 Byte)\n",
            "__________________________________________________________________________________________________\n"
          ]
        }
      ]
    },
    {
      "cell_type": "markdown",
      "source": [
        "El siguiente código es para **generar un punto espacial latente ``z``** usando ``z_mean`` y ``z_log_var``, los parámetros de la distribución estadística que se supone que produjeron ``input_img``:"
      ],
      "metadata": {
        "id": "Dl7vXTMDj5bV"
      }
    },
    {
      "cell_type": "markdown",
      "source": [
        "**Capa de muestreo-espacio-latente (Latent-space-sampling)**"
      ],
      "metadata": {
        "id": "Tv1AyJn7kLUl"
      }
    },
    {
      "cell_type": "code",
      "source": [
        "# Sampling layer\n",
        "class Sampler(layers.Layer):\n",
        "    def call(self, z_mean, z_log_var):\n",
        "        batch_size = tf.shape(z_mean)[0]\n",
        "        z_size = tf.shape(z_mean)[1]\n",
        "        epsilon = tf.random.normal(shape=(batch_size, z_size))\n",
        "        return z_mean + tf.exp(0.5 * z_log_var) * epsilon"
      ],
      "metadata": {
        "id": "jTdUapfDb2uV"
      },
      "execution_count": 21,
      "outputs": []
    },
    {
      "cell_type": "markdown",
      "source": [
        "El siguiente código es la **implementación del decodificador**. Redimensionamos el vector ``z`` a las dimensiones de una imagen y luego usamos algunas capas de convolución para obtener una salida de imagen final que tiene las mismas dimensiones que la ``input_img`` original."
      ],
      "metadata": {
        "id": "-1k67MH6kG8y"
      }
    },
    {
      "cell_type": "markdown",
      "source": [
        "**Red de decodificadores VAE, asignando puntos de espacio latente a imágenes**"
      ],
      "metadata": {
        "id": "YqhLOcIlkWR9"
      }
    },
    {
      "cell_type": "code",
      "source": [
        "# Decoder\n",
        "latent_inputs = layers.Input(shape=(latent_dim,))\n",
        "x = layers.Dense(7 * 7 * 64, activation=\"relu\")(latent_inputs)\n",
        "# Revertimos la capa Flatten del codificador.\n",
        "x = layers.Reshape((7, 7, 64))(x)\n",
        "#Revertimos las capas Conv2D del codificador.\n",
        "x = layers.Conv2DTranspose(64, 3, activation=\"relu\", strides=2, padding=\"same\")(x)\n",
        "x = layers.Conv2DTranspose(32, 3, activation=\"relu\", strides=2, padding=\"same\")(x)\n",
        "decoder_outputs = layers.Conv2D(1, 3, activation=\"sigmoid\", padding=\"same\")(x)\n",
        "decoder = Model(latent_inputs, decoder_outputs, name=\"decoder\")"
      ],
      "metadata": {
        "id": "kDzpOXmOb6Ah"
      },
      "execution_count": 22,
      "outputs": []
    },
    {
      "cell_type": "code",
      "source": [
        "decoder.summary()"
      ],
      "metadata": {
        "colab": {
          "base_uri": "https://localhost:8080/"
        },
        "id": "mn9qcwPckvle",
        "outputId": "3b5e8c18-f23e-4af5-e9e5-cd3ec7071a19"
      },
      "execution_count": 23,
      "outputs": [
        {
          "output_type": "stream",
          "name": "stdout",
          "text": [
            "Model: \"decoder\"\n",
            "_________________________________________________________________\n",
            " Layer (type)                Output Shape              Param #   \n",
            "=================================================================\n",
            " input_5 (InputLayer)        [(None, 2)]               0         \n",
            "                                                                 \n",
            " dense_4 (Dense)             (None, 3136)              9408      \n",
            "                                                                 \n",
            " reshape_2 (Reshape)         (None, 7, 7, 64)          0         \n",
            "                                                                 \n",
            " conv2d_transpose_4 (Conv2D  (None, 14, 14, 64)        36928     \n",
            " Transpose)                                                      \n",
            "                                                                 \n",
            " conv2d_transpose_5 (Conv2D  (None, 28, 28, 32)        18464     \n",
            " Transpose)                                                      \n",
            "                                                                 \n",
            " conv2d_6 (Conv2D)           (None, 28, 28, 1)         289       \n",
            "                                                                 \n",
            "=================================================================\n",
            "Total params: 65089 (254.25 KB)\n",
            "Trainable params: 65089 (254.25 KB)\n",
            "Non-trainable params: 0 (0.00 Byte)\n",
            "_________________________________________________________________\n"
          ]
        }
      ]
    },
    {
      "cell_type": "markdown",
      "source": [
        "Creamos el **propio modelo VAE**. **Este es nuestro primer ejemplo de un modelo que no realiza aprendizaje supervisado** (un autoencoder es un ejemplo de **aprendizaje autosupervisado**, porque **utiliza sus entradas como objetivos**). Cada vez que se sale del aprendizaje supervisado clásico, es **común crear una subclase de la clase ``Model`` e implementar un ``train_ step()`` personalizado para especificar la nueva lógica de entrenamiento**"
      ],
      "metadata": {
        "id": "FN4nP2Lvlexm"
      }
    },
    {
      "cell_type": "code",
      "source": [
        "# VAE model\n",
        "class VAE(Model):\n",
        "    def __init__(self, encoder, decoder, **kwargs):\n",
        "        super().__init__(**kwargs)\n",
        "        self.encoder = encoder\n",
        "        self.decoder = decoder\n",
        "        self.sampler = Sampler()\n",
        "        self.total_loss_tracker = metrics.Mean(name=\"total_loss\")\n",
        "        self.reconstruction_loss_tracker = metrics.Mean(name=\"reconstruction_loss\")\n",
        "        self.kl_loss_tracker = metrics.Mean(name=\"kl_loss\")\n",
        "\n",
        "    @property\n",
        "    def metrics(self):\n",
        "        return [self.total_loss_tracker,\n",
        "                self.reconstruction_loss_tracker,\n",
        "                self.kl_loss_tracker]\n",
        "\n",
        "    def train_step(self, data):\n",
        "        with tf.GradientTape() as tape:\n",
        "            z_mean, z_log_var = self.encoder(data)\n",
        "            z = self.sampler(z_mean, z_log_var)\n",
        "            reconstruction = decoder(z)\n",
        "            reconstruction_loss = tf.reduce_mean(\n",
        "                tf.reduce_sum(\n",
        "                    losses.binary_crossentropy(data, reconstruction),\n",
        "                    axis=(1, 2)\n",
        "                )\n",
        "            )\n",
        "            kl_loss = -0.5 * (1 + z_log_var - tf.square(z_mean) - tf.exp(z_log_var))\n",
        "            total_loss = reconstruction_loss + tf.reduce_mean(kl_loss)\n",
        "        grads = tape.gradient(total_loss, self.trainable_weights)\n",
        "        self.optimizer.apply_gradients(zip(grads, self.trainable_weights))\n",
        "        self.total_loss_tracker.update_state(total_loss)\n",
        "        self.reconstruction_loss_tracker.update_state(reconstruction_loss)\n",
        "        self.kl_loss_tracker.update_state(kl_loss)\n",
        "        return {\n",
        "            \"total_loss\": self.total_loss_tracker.result(),\n",
        "            \"reconstruction_loss\": self.reconstruction_loss_tracker.result(),\n",
        "            \"kl_loss\": self.kl_loss_tracker.result(),\n",
        "        }"
      ],
      "metadata": {
        "id": "eJ4hXRDAb895"
      },
      "execution_count": 24,
      "outputs": []
    },
    {
      "cell_type": "code",
      "source": [
        "# Instanciar el modelo VAE\n",
        "vae = VAE(encoder, decoder)\n",
        "vae.compile(optimizer=Adam())"
      ],
      "metadata": {
        "id": "iLbsBV-1b_MG"
      },
      "execution_count": 15,
      "outputs": []
    },
    {
      "cell_type": "code",
      "source": [
        "# Entrenar el modelo VAE\n",
        "vae.fit(fashion_mnist, epochs=30, batch_size=128)"
      ],
      "metadata": {
        "colab": {
          "base_uri": "https://localhost:8080/"
        },
        "id": "G2C9-ugLcAwe",
        "outputId": "de404912-2c0e-4c70-e1fd-5d24287aad72"
      },
      "execution_count": 16,
      "outputs": [
        {
          "output_type": "stream",
          "name": "stdout",
          "text": [
            "Epoch 1/30\n",
            "547/547 [==============================] - 133s 239ms/step - total_loss: 317.1064 - reconstruction_loss: 311.5762 - kl_loss: 5.5301\n",
            "Epoch 2/30\n",
            "547/547 [==============================] - 129s 236ms/step - total_loss: 276.3710 - reconstruction_loss: 271.5001 - kl_loss: 4.8712\n",
            "Epoch 3/30\n",
            "547/547 [==============================] - 131s 240ms/step - total_loss: 271.5631 - reconstruction_loss: 267.0355 - kl_loss: 4.5274\n",
            "Epoch 4/30\n",
            "547/547 [==============================] - 130s 237ms/step - total_loss: 269.4906 - reconstruction_loss: 265.0825 - kl_loss: 4.4080\n",
            "Epoch 5/30\n",
            "547/547 [==============================] - 131s 239ms/step - total_loss: 267.7407 - reconstruction_loss: 263.3935 - kl_loss: 4.3474\n",
            "Epoch 6/30\n",
            "547/547 [==============================] - 130s 237ms/step - total_loss: 266.5414 - reconstruction_loss: 262.2272 - kl_loss: 4.3141\n",
            "Epoch 7/30\n",
            "547/547 [==============================] - 132s 241ms/step - total_loss: 265.6426 - reconstruction_loss: 261.3496 - kl_loss: 4.2929\n",
            "Epoch 8/30\n",
            "547/547 [==============================] - 130s 237ms/step - total_loss: 264.8080 - reconstruction_loss: 260.5273 - kl_loss: 4.2807\n",
            "Epoch 9/30\n",
            "547/547 [==============================] - 131s 240ms/step - total_loss: 264.1563 - reconstruction_loss: 259.8887 - kl_loss: 4.2674\n",
            "Epoch 10/30\n",
            "547/547 [==============================] - 131s 239ms/step - total_loss: 263.5380 - reconstruction_loss: 259.2963 - kl_loss: 4.2413\n",
            "Epoch 11/30\n",
            "547/547 [==============================] - 130s 238ms/step - total_loss: 263.0345 - reconstruction_loss: 258.7971 - kl_loss: 4.2374\n",
            "Epoch 12/30\n",
            "547/547 [==============================] - 131s 239ms/step - total_loss: 262.5603 - reconstruction_loss: 258.3364 - kl_loss: 4.2240\n",
            "Epoch 13/30\n",
            "547/547 [==============================] - 131s 240ms/step - total_loss: 262.1457 - reconstruction_loss: 257.9186 - kl_loss: 4.2268\n",
            "Epoch 14/30\n",
            "547/547 [==============================] - 136s 248ms/step - total_loss: 261.7558 - reconstruction_loss: 257.5420 - kl_loss: 4.2138\n",
            "Epoch 15/30\n",
            "547/547 [==============================] - 135s 246ms/step - total_loss: 261.3908 - reconstruction_loss: 257.1842 - kl_loss: 4.2067\n",
            "Epoch 16/30\n",
            "547/547 [==============================] - 138s 253ms/step - total_loss: 260.8703 - reconstruction_loss: 256.6638 - kl_loss: 4.2066\n",
            "Epoch 17/30\n",
            "547/547 [==============================] - 133s 244ms/step - total_loss: 260.4679 - reconstruction_loss: 256.2692 - kl_loss: 4.1989\n",
            "Epoch 18/30\n",
            "547/547 [==============================] - 131s 240ms/step - total_loss: 260.2878 - reconstruction_loss: 256.1008 - kl_loss: 4.1870\n",
            "Epoch 19/30\n",
            "547/547 [==============================] - 132s 241ms/step - total_loss: 259.9523 - reconstruction_loss: 255.7667 - kl_loss: 4.1858\n",
            "Epoch 20/30\n",
            "547/547 [==============================] - 130s 238ms/step - total_loss: 259.6071 - reconstruction_loss: 255.4273 - kl_loss: 4.1798\n",
            "Epoch 21/30\n",
            "547/547 [==============================] - 131s 238ms/step - total_loss: 259.4309 - reconstruction_loss: 255.2465 - kl_loss: 4.1846\n",
            "Epoch 22/30\n",
            "547/547 [==============================] - 130s 238ms/step - total_loss: 259.2106 - reconstruction_loss: 255.0443 - kl_loss: 4.1665\n",
            "Epoch 23/30\n",
            "547/547 [==============================] - 131s 240ms/step - total_loss: 259.0381 - reconstruction_loss: 254.8642 - kl_loss: 4.1740\n",
            "Epoch 24/30\n",
            "547/547 [==============================] - 130s 237ms/step - total_loss: 258.6926 - reconstruction_loss: 254.5283 - kl_loss: 4.1642\n",
            "Epoch 25/30\n",
            "547/547 [==============================] - 134s 244ms/step - total_loss: 258.4859 - reconstruction_loss: 254.3315 - kl_loss: 4.1545\n",
            "Epoch 26/30\n",
            "547/547 [==============================] - 141s 258ms/step - total_loss: 258.3280 - reconstruction_loss: 254.1739 - kl_loss: 4.1541\n",
            "Epoch 27/30\n",
            "547/547 [==============================] - 131s 239ms/step - total_loss: 258.1893 - reconstruction_loss: 254.0433 - kl_loss: 4.1460\n",
            "Epoch 28/30\n",
            "547/547 [==============================] - 134s 245ms/step - total_loss: 258.0493 - reconstruction_loss: 253.9161 - kl_loss: 4.1333\n",
            "Epoch 29/30\n",
            "547/547 [==============================] - 132s 241ms/step - total_loss: 257.7242 - reconstruction_loss: 253.5845 - kl_loss: 4.1395\n",
            "Epoch 30/30\n",
            "547/547 [==============================] - 132s 241ms/step - total_loss: 257.6887 - reconstruction_loss: 253.5603 - kl_loss: 4.1282\n"
          ]
        },
        {
          "output_type": "execute_result",
          "data": {
            "text/plain": [
              "<keras.src.callbacks.History at 0x7c04ff8695a0>"
            ]
          },
          "metadata": {},
          "execution_count": 16
        }
      ]
    },
    {
      "cell_type": "markdown",
      "source": [
        "La pérdida total es una combinación de la pérdida de reconstrucción y la pérdida de divergencia de Kullback-Leible\n",
        "La pérdida de reconstrucción representa cuánto difieren las imágenes generadas del modelo de las imágenes de entrada originales.\n",
        "La divergencia de Kullback-Leibler (KL) es una medida de cuánto se desvían dos distribuciones de probabilidad una de la otra. En el contexto del modelo Variational Autoencoder (VAE), la divergencia KL se utiliza para medir cuánto difiere la distribución de probabilidad de los vectores latentes generados por el modelo de una distribución de referencia, típicamente una distribución gaussiana estándar."
      ],
      "metadata": {
        "id": "SMxSiYb0rEVz"
      }
    },
    {
      "cell_type": "code",
      "source": [
        "print(\"La pérdida total fue: {:.4f}\".format(total_loss[-1]))\n",
        "print(\"La pérdida de reconstrucción fue: {:.4f}\".format(reconstruction_loss[-1]))\n",
        "print(\"La pérdida de divergencia de Kullback-Leibler (KL) fue: {:.4f}\".format(kl_loss[-1]))"
      ],
      "metadata": {
        "colab": {
          "base_uri": "https://localhost:8080/"
        },
        "id": "n_0mweZWrr97",
        "outputId": "c1ef34d6-84b5-4ff4-bbca-c43169093b26"
      },
      "execution_count": 19,
      "outputs": [
        {
          "output_type": "stream",
          "name": "stdout",
          "text": [
            "La pérdida total fue: 257.6887\n",
            "La pérdida de reconstrucción fue: 253.5603\n",
            "La pérdida de divergencia de Kullback-Leibler (KL) fue: 4.1282\n"
          ]
        }
      ]
    },
    {
      "cell_type": "markdown",
      "source": [
        "Estos resultados sugieren que el modelo VAE está aprendiendo a reconstruir las imágenes originales con una pérdida de reconstrucción relativamente baja y controla la dispersión en el espacio latente con una pérdida de divergencia KL razonable.\n"
      ],
      "metadata": {
        "id": "OGfyGixAoOlH"
      }
    },
    {
      "cell_type": "code",
      "source": [
        "index = int(input(\"Ingrese el índice de la imagen a mostrar: \"))\n",
        "\n",
        "y_pred = vae.decoder.predict(vae.encoder.predict(fashion_mnist)[0])\n",
        "\n",
        "plt.figure(1)\n",
        "plt.subplot(221)\n",
        "plt.imshow(fashion_mnist[index].reshape(28,28), cmap='gray')\n",
        "plt.title(\"Imagen Original\")\n",
        "\n",
        "plt.subplot(222)\n",
        "plt.imshow(y_pred[index].reshape(28,28), cmap='gray')\n",
        "plt.title(\"Imagen Generada\")\n",
        "\n",
        "plt.subplot(223)\n",
        "plt.imshow(fashion_mnist[index*5].reshape(28,28), cmap='gray')\n",
        "plt.title(\"Imagen Original 2\")\n",
        "\n",
        "plt.subplot(224)\n",
        "plt.imshow(y_pred[index*5].reshape(28,28), cmap='gray')\n",
        "plt.title(\"Imagen Generada 2\")\n",
        "\n",
        "plt.tight_layout()\n",
        "plt.show()"
      ],
      "metadata": {
        "colab": {
          "base_uri": "https://localhost:8080/",
          "height": 538
        },
        "id": "dBwm2juyqYE_",
        "outputId": "d5a16126-a52b-4580-9bd8-a1b55ccb9a88"
      },
      "execution_count": 20,
      "outputs": [
        {
          "output_type": "stream",
          "name": "stdout",
          "text": [
            "Ingrese el índice de la imagen a mostrar: 12\n",
            "2188/2188 [==============================] - 18s 8ms/step\n",
            "2188/2188 [==============================] - 37s 17ms/step\n"
          ]
        },
        {
          "output_type": "display_data",
          "data": {
            "text/plain": [
              "<Figure size 640x480 with 4 Axes>"
            ],
            "image/png": "[encoded data removed]"
          },
          "metadata": {}
        }
      ]
    },
    {
      "cell_type": "markdown",
      "source": [
        "Obtenemos una pequeña comparación entre imágenes originales del conjunto de datos y sus versiones reconstruidas generadas por un Autoencoder Variacional (VAE). La reconstrucción se realiza utilizando el codificador para mapear las imágenes al espacio latente y luego utilizando el decodificador para mapear de vuelta al espacio de entrada original."
      ],
      "metadata": {
        "id": "6SMB1YPENQkp"
      }
    },
    {
      "cell_type": "markdown",
      "source": [
        "Vayamos con otro ejemplo, con otro modelo, sin strides y aumentando el número de filtros podemos conseguir mejoras."
      ],
      "metadata": {
        "id": "jaBUA8DHsw-9"
      }
    },
    {
      "cell_type": "markdown",
      "source": [
        "### Modelo 2"
      ],
      "metadata": {
        "id": "CLvWoxLdQIyg"
      }
    },
    {
      "cell_type": "code",
      "source": [
        "# Dimensionalidad del espacio latente: un plano 2D\n",
        "latent_dim = 2\n",
        "\n",
        "encoder_inputs = layers.Input(shape=(28, 28, 1))\n",
        "x = layers.Conv2D(64, 3, activation=\"relu\", strides=1, padding=\"same\")(encoder_inputs)\n",
        "x = layers.Conv2D(128, 3, activation=\"relu\", strides=1, padding=\"same\")(x)\n",
        "x = layers.Flatten()(x)\n",
        "x = layers.Dense(16, activation=\"relu\")(x)\n",
        "# La imagen de entrada termina siendo codificada\n",
        "# en estos dos parámetros: z_mean y z_log_var\n",
        "z_mean = layers.Dense(latent_dim, name=\"z_mean\")(x)\n",
        "z_log_var = layers.Dense(latent_dim, name=\"z_log_var\")(x)\n",
        "encoder = Model(encoder_inputs, [z_mean, z_log_var], name=\"encoder\")"
      ],
      "metadata": {
        "id": "qB3iut5CsXWA"
      },
      "execution_count": 25,
      "outputs": []
    },
    {
      "cell_type": "code",
      "source": [
        "encoder.summary()"
      ],
      "metadata": {
        "colab": {
          "base_uri": "https://localhost:8080/"
        },
        "id": "ZkUR2jZquPni",
        "outputId": "586faaf5-c671-46b1-b15b-0e9ac562e151"
      },
      "execution_count": 26,
      "outputs": [
        {
          "output_type": "stream",
          "name": "stdout",
          "text": [
            "Model: \"encoder\"\n",
            "__________________________________________________________________________________________________\n",
            " Layer (type)                Output Shape                 Param #   Connected to                  \n",
            "==================================================================================================\n",
            " input_6 (InputLayer)        [(None, 28, 28, 1)]          0         []                            \n",
            "                                                                                                  \n",
            " conv2d_7 (Conv2D)           (None, 28, 28, 64)           640       ['input_6[0][0]']             \n",
            "                                                                                                  \n",
            " conv2d_8 (Conv2D)           (None, 28, 28, 128)          73856     ['conv2d_7[0][0]']            \n",
            "                                                                                                  \n",
            " flatten_2 (Flatten)         (None, 100352)               0         ['conv2d_8[0][0]']            \n",
            "                                                                                                  \n",
            " dense_5 (Dense)             (None, 16)                   1605648   ['flatten_2[0][0]']           \n",
            "                                                                                                  \n",
            " z_mean (Dense)              (None, 2)                    34        ['dense_5[0][0]']             \n",
            "                                                                                                  \n",
            " z_log_var (Dense)           (None, 2)                    34        ['dense_5[0][0]']             \n",
            "                                                                                                  \n",
            "==================================================================================================\n",
            "Total params: 1680212 (6.41 MB)\n",
            "Trainable params: 1680212 (6.41 MB)\n",
            "Non-trainable params: 0 (0.00 Byte)\n",
            "__________________________________________________________________________________________________\n"
          ]
        }
      ]
    },
    {
      "cell_type": "code",
      "source": [
        "# Entrada a través de la cual alimentaremos con z\n",
        "latent_inputs = layers.Input(shape=(latent_dim,))\n",
        "# Producimos la misma cantidad de coeficientes que\n",
        "# teníamos al nivel de la capa Flatten en el codificador.\n",
        "x = layers.Dense(28 * 28 * 128, activation=\"relu\")(latent_inputs)\n",
        "# Revertimos la capa Flatten del codificador.\n",
        "x = layers.Reshape((28, 28, 128))(x)\n",
        "# Revertimos las capas Conv2D del codificador.\n",
        "x = layers.Conv2DTranspose(128, 3, activation=\"relu\", strides=1, padding=\"same\")(x)\n",
        "x = layers.Conv2DTranspose(64, 3, activation=\"relu\", strides=1, padding=\"same\")(x)\n",
        "# La salida termina con la forma (28, 28, 1)\n",
        "decoder_outputs = layers.Conv2D(1, 3, activation=\"sigmoid\", padding=\"same\")(x)\n",
        "decoder = Model(latent_inputs, decoder_outputs, name=\"decoder\")"
      ],
      "metadata": {
        "id": "-quPPwntuRv2"
      },
      "execution_count": 27,
      "outputs": []
    },
    {
      "cell_type": "code",
      "source": [
        "# VAE model\n",
        "class VAE(Model):\n",
        "    def __init__(self, encoder, decoder, **kwargs):\n",
        "        super().__init__(**kwargs)\n",
        "        self.encoder = encoder\n",
        "        self.decoder = decoder\n",
        "        self.sampler = Sampler()\n",
        "        self.total_loss_tracker = metrics.Mean(name=\"total_loss\")\n",
        "        self.reconstruction_loss_tracker = metrics.Mean(name=\"reconstruction_loss\")\n",
        "        self.kl_loss_tracker = metrics.Mean(name=\"kl_loss\")\n",
        "\n",
        "    @property\n",
        "    def metrics(self):\n",
        "        return [self.total_loss_tracker,\n",
        "                self.reconstruction_loss_tracker,\n",
        "                self.kl_loss_tracker]\n",
        "\n",
        "    def train_step(self, data):\n",
        "        with tf.GradientTape() as tape:\n",
        "            z_mean, z_log_var = self.encoder(data)\n",
        "            z = self.sampler(z_mean, z_log_var)\n",
        "            reconstruction = decoder(z)\n",
        "            reconstruction_loss = tf.reduce_mean(\n",
        "                tf.reduce_sum(\n",
        "                    losses.binary_crossentropy(data, reconstruction),\n",
        "                    axis=(1, 2)\n",
        "                )\n",
        "            )\n",
        "            kl_loss = -0.5 * (1 + z_log_var - tf.square(z_mean) - tf.exp(z_log_var))\n",
        "            total_loss = reconstruction_loss + tf.reduce_mean(kl_loss)\n",
        "        grads = tape.gradient(total_loss, self.trainable_weights)\n",
        "        self.optimizer.apply_gradients(zip(grads, self.trainable_weights))\n",
        "        self.total_loss_tracker.update_state(total_loss)\n",
        "        self.reconstruction_loss_tracker.update_state(reconstruction_loss)\n",
        "        self.kl_loss_tracker.update_state(kl_loss)\n",
        "        return {\n",
        "            \"total_loss\": self.total_loss_tracker.result(),\n",
        "            \"reconstruction_loss\": self.reconstruction_loss_tracker.result(),\n",
        "            \"kl_loss\": self.kl_loss_tracker.result(),\n",
        "        }"
      ],
      "metadata": {
        "id": "tJ01TbSKuUc1"
      },
      "execution_count": 28,
      "outputs": []
    },
    {
      "cell_type": "code",
      "source": [
        "# Instanciar el modelo VAE\n",
        "vae = VAE(encoder, decoder)\n",
        "vae.compile(optimizer=Adam())\n",
        "# Entrenar el modelo VAE\n",
        "vae.fit(fashion_mnist, epochs=10, batch_size=128)"
      ],
      "metadata": {
        "colab": {
          "base_uri": "https://localhost:8080/"
        },
        "id": "aYerU2i2u13t",
        "outputId": "060ad0e9-d13f-417f-a501-2603112c22cb"
      },
      "execution_count": null,
      "outputs": [
        {
          "output_type": "stream",
          "name": "stdout",
          "text": [
            "Epoch 1/10\n",
            "547/547 [==============================] - 2081s 4s/step - total_loss: 290.1646 - reconstruction_loss: 284.3095 - kl_loss: 5.8556\n",
            "Epoch 2/10\n",
            " 12/547 [..............................] - ETA: 32:21 - total_loss: 272.2004 - reconstruction_loss: 267.8911 - kl_loss: 4.3093"
          ]
        }
      ]
    },
    {
      "cell_type": "code",
      "source": [
        "print(\"La pérdida total fue: {:.4f}\".format(total_loss[-1]))\n",
        "print(\"La pérdida de reconstrucción fue: {:.4f}\".format(reconstruction_loss[-1]))\n",
        "print(\"La pérdida de divergencia de Kullback-Leibler (KL) fue: {:.4f}\".format(kl_loss[-1]))"
      ],
      "metadata": {
        "id": "BIUmd7xxvYRe"
      },
      "execution_count": null,
      "outputs": []
    },
    {
      "cell_type": "markdown",
      "source": [
        "Este modelo tiene valores de pérdida total más bajos al anterior, si bien es cierto, que la pérdida de reconstrucción es similar y la pérdida kl es más alta que en el anterior. Veamos que imágenes nos crea."
      ],
      "metadata": {
        "id": "YuoLWRXpw3AY"
      }
    },
    {
      "cell_type": "code",
      "source": [
        "index = int(input(\"Ingrese el índice de la imagen a mostrar: \"))\n",
        "\n",
        "y_pred = vae.decoder.predict(vae.encoder.predict(fashion_mnist)[0])\n",
        "\n",
        "plt.figure(1)\n",
        "plt.subplot(221)\n",
        "plt.imshow(fashion_mnist[index].reshape(28,28), cmap='gray')\n",
        "plt.title(\"Imagen Original\")\n",
        "\n",
        "plt.subplot(222)\n",
        "plt.imshow(y_pred[index].reshape(28,28), cmap='gray')\n",
        "plt.title(\"Imagen Generada\")\n",
        "\n",
        "plt.subplot(223)\n",
        "plt.imshow(fashion_mnist[index*5].reshape(28,28), cmap='gray')\n",
        "plt.title(\"Imagen Original 2\")\n",
        "\n",
        "plt.subplot(224)\n",
        "plt.imshow(y_pred[index*5].reshape(28,28), cmap='gray')\n",
        "plt.title(\"Imagen Generada 2\")\n",
        "\n",
        "plt.tight_layout()\n",
        "plt.show()"
      ],
      "metadata": {
        "id": "26DRNIFAzs13"
      },
      "execution_count": null,
      "outputs": []
    },
    {
      "cell_type": "markdown",
      "source": [
        "Nos muestra imágenes de forma más clara."
      ],
      "metadata": {
        "id": "zNwjdeK5L5vG"
      }
    },
    {
      "cell_type": "markdown",
      "source": [
        "## Conclusiones"
      ],
      "metadata": {
        "id": "ApuD-295L9nK"
      }
    },
    {
      "cell_type": "markdown",
      "source": [],
      "metadata": {
        "id": "p739ZPDvMAHL"
      }
    },
    {
      "cell_type": "code",
      "source": [],
      "metadata": {
        "id": "V9qNnLdjL_k-"
      },
      "execution_count": null,
      "outputs": []
    }
  ]
}