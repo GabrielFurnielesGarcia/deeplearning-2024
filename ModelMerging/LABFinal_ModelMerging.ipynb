{
  "nbformat": 4,
  "nbformat_minor": 0,
  "metadata": {
    "colab": {
      "provenance": [],
      "authorship_tag": "ABX9TyNAk8bI5IKrpvncNf1zH722",
      "include_colab_link": true
    },
    "kernelspec": {
      "name": "python3",
      "display_name": "Python 3"
    },
    "language_info": {
      "name": "python"
    }
  },
  "cells": [
    {
      "cell_type": "markdown",
      "metadata": {
        "id": "view-in-github",
        "colab_type": "text"
      },
      "source": [
        "<a href=\"https://colab.research.google.com/github/GabrielFurnielesGarcia/deeplearning-2024/blob/main/ModelMerging/LABFinal_ModelMerging.ipynb\" target=\"_parent\"><img src=\"https://colab.research.google.com/assets/colab-badge.svg\" alt=\"Open In Colab\"/></a>"
      ]
    },
    {
      "cell_type": "markdown",
      "source": [
        "# Model Merging\n",
        "\n",
        "Sofía Ángel, Gabriel Furnieles\n",
        "\n",
        "Mayo 2024\n",
        "\n",
        "---"
      ],
      "metadata": {
        "id": "m0AYB3Ed75uT"
      }
    },
    {
      "cell_type": "markdown",
      "source": [
        ">[Model Merging](#updateTitle=true&folderId=1LRQ5oKsHGRpv2QOnXegkUaqD7nU3IBR0&scrollTo=m0AYB3Ed75uT)\n",
        "\n",
        ">>[¿Qué es Model Merging?](#updateTitle=true&folderId=1LRQ5oKsHGRpv2QOnXegkUaqD7nU3IBR0&scrollTo=l7zubhCd8_Q4)\n",
        "\n",
        ">>[Model Merging techniques](#updateTitle=true&folderId=1LRQ5oKsHGRpv2QOnXegkUaqD7nU3IBR0&scrollTo=BtONg7j7CdAz)\n",
        "\n",
        ">>>[SLERP](#updateTitle=true&folderId=1LRQ5oKsHGRpv2QOnXegkUaqD7nU3IBR0&scrollTo=2O1BQ3c2CirM)\n",
        "\n",
        ">>>[TIES](#updateTitle=true&folderId=1LRQ5oKsHGRpv2QOnXegkUaqD7nU3IBR0&scrollTo=99kxfMkVCk08)\n",
        "\n",
        ">>>[DARE](#updateTitle=true&folderId=1LRQ5oKsHGRpv2QOnXegkUaqD7nU3IBR0&scrollTo=e_pyTa1GCzgj)\n",
        "\n"
      ],
      "metadata": {
        "colab_type": "toc",
        "id": "LmAGbQH9DH36"
      }
    },
    {
      "cell_type": "markdown",
      "source": [
        "## ¿Qué es Model Merging?"
      ],
      "metadata": {
        "id": "l7zubhCd8_Q4"
      }
    },
    {
      "cell_type": "markdown",
      "source": [
        "## Model Merging techniques"
      ],
      "metadata": {
        "id": "BtONg7j7CdAz"
      }
    },
    {
      "cell_type": "markdown",
      "source": [
        "### SLERP"
      ],
      "metadata": {
        "id": "2O1BQ3c2CirM"
      }
    },
    {
      "cell_type": "markdown",
      "source": [
        "### TIES"
      ],
      "metadata": {
        "id": "99kxfMkVCk08"
      }
    },
    {
      "cell_type": "markdown",
      "source": [
        "### DARE"
      ],
      "metadata": {
        "id": "e_pyTa1GCzgj"
      }
    },
    {
      "cell_type": "markdown",
      "source": [
        "### Passthrough"
      ],
      "metadata": {
        "id": "d7_Pon8TC1Nh"
      }
    },
    {
      "cell_type": "markdown",
      "source": [
        "## Utilizando la librería `merge-kit`"
      ],
      "metadata": {
        "id": "5sNpnRe9GnlN"
      }
    },
    {
      "cell_type": "code",
      "source": [
        "MODEL_NAME = \"NeuralPipe-7B-slerp\"\n",
        "yaml_config = \"\"\"\n",
        "slices:\n",
        "  - sources:\n",
        "      - model: OpenPipe/mistral-ft-optimized-1218\n",
        "        layer_range: [0, 32]\n",
        "      - model: mlabonne/NeuralHermes-2.5-Mistral-7B\n",
        "        layer_range: [0, 32]\n",
        "merge_method: slerp\n",
        "base_model: OpenPipe/mistral-ft-optimized-1218\n",
        "parameters:\n",
        "  t:\n",
        "    - filter: self_attn\n",
        "      value: [0, 0.5, 0.3, 0.7, 1]\n",
        "    - filter: mlp\n",
        "      value: [1, 0.5, 0.7, 0.3, 0]\n",
        "    - value: 0.5\n",
        "dtype: bfloat16\n",
        "\"\"\""
      ],
      "metadata": {
        "id": "f_A2YxhdHKAe"
      },
      "execution_count": null,
      "outputs": []
    },
    {
      "cell_type": "markdown",
      "source": [
        "## Evaluando"
      ],
      "metadata": {
        "id": "3eVKvayJJBNR"
      }
    },
    {
      "cell_type": "code",
      "source": [],
      "metadata": {
        "id": "GzwQmF6KJhy5"
      },
      "execution_count": null,
      "outputs": []
    },
    {
      "cell_type": "markdown",
      "source": [],
      "metadata": {
        "id": "L7NQbk3IJkHH"
      }
    },
    {
      "cell_type": "markdown",
      "source": [
        "## Evolutionary Model Merging"
      ],
      "metadata": {
        "id": "PxMVppuaDXKH"
      }
    },
    {
      "cell_type": "markdown",
      "source": [],
      "metadata": {
        "id": "4Ru831DDJ4DH"
      }
    },
    {
      "cell_type": "code",
      "source": [],
      "metadata": {
        "id": "TEFYT6tLDZwB"
      },
      "execution_count": null,
      "outputs": []
    },
    {
      "cell_type": "markdown",
      "source": [
        "## Referencias"
      ],
      "metadata": {
        "id": "eqXi4Fo2GcME"
      }
    },
    {
      "cell_type": "code",
      "source": [],
      "metadata": {
        "id": "S39xmDSiGel_"
      },
      "execution_count": null,
      "outputs": []
    }
  ]
}