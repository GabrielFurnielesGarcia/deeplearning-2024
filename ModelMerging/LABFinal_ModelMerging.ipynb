{
  "nbformat": 4,
  "nbformat_minor": 0,
  "metadata": {
    "colab": {
      "provenance": [],
      "authorship_tag": "ABX9TyMxwTVQbheVvWB/8QmRPToQ",
      "include_colab_link": true
    },
    "kernelspec": {
      "name": "python3",
      "display_name": "Python 3"
    },
    "language_info": {
      "name": "python"
    }
  },
  "cells": [
    {
      "cell_type": "markdown",
      "metadata": {
        "id": "view-in-github",
        "colab_type": "text"
      },
      "source": [
        "<a href=\"https://colab.research.google.com/github/GabrielFurnielesGarcia/deeplearning-2024/blob/main/ModelMerging/LABFinal_ModelMerging.ipynb\" target=\"_parent\"><img src=\"https://colab.research.google.com/assets/colab-badge.svg\" alt=\"Open In Colab\"/></a>"
      ]
    },
    {
      "cell_type": "markdown",
      "source": [
        "# Model Merging\n",
        "\n",
        "Sofía Ángel, Gabriel Furnieles\n",
        "\n",
        "Mayo 2024\n",
        "\n",
        "---"
      ],
      "metadata": {
        "id": "m0AYB3Ed75uT"
      }
    },
    {
      "cell_type": "markdown",
      "source": [
        ">[Model Merging](#updateTitle=true&folderId=1LRQ5oKsHGRpv2QOnXegkUaqD7nU3IBR0&scrollTo=m0AYB3Ed75uT)\n",
        "\n",
        ">>[¿Qué es Model Merging?](#updateTitle=true&folderId=1LRQ5oKsHGRpv2QOnXegkUaqD7nU3IBR0&scrollTo=l7zubhCd8_Q4)\n",
        "\n",
        ">>[Model Merging techniques](#updateTitle=true&folderId=1LRQ5oKsHGRpv2QOnXegkUaqD7nU3IBR0&scrollTo=BtONg7j7CdAz)\n",
        "\n",
        ">>>[SLERP](#updateTitle=true&folderId=1LRQ5oKsHGRpv2QOnXegkUaqD7nU3IBR0&scrollTo=2O1BQ3c2CirM)\n",
        "\n",
        ">>>[TIES](#updateTitle=true&folderId=1LRQ5oKsHGRpv2QOnXegkUaqD7nU3IBR0&scrollTo=99kxfMkVCk08)\n",
        "\n",
        ">>>[DARE](#updateTitle=true&folderId=1LRQ5oKsHGRpv2QOnXegkUaqD7nU3IBR0&scrollTo=e_pyTa1GCzgj)\n",
        "\n"
      ],
      "metadata": {
        "colab_type": "toc",
        "id": "LmAGbQH9DH36"
      }
    },
    {
      "cell_type": "markdown",
      "source": [
        "## ¿Qué es Model Merging?"
      ],
      "metadata": {
        "id": "l7zubhCd8_Q4"
      }
    },
    {
      "cell_type": "markdown",
      "source": [
        "## Model Merging techniques"
      ],
      "metadata": {
        "id": "BtONg7j7CdAz"
      }
    },
    {
      "cell_type": "markdown",
      "source": [
        "### SLERP"
      ],
      "metadata": {
        "id": "2O1BQ3c2CirM"
      }
    },
    {
      "cell_type": "markdown",
      "source": [
        "### TIES"
      ],
      "metadata": {
        "id": "99kxfMkVCk08"
      }
    },
    {
      "cell_type": "markdown",
      "source": [
        "### DARE"
      ],
      "metadata": {
        "id": "e_pyTa1GCzgj"
      }
    },
    {
      "cell_type": "markdown",
      "source": [
        "### Passthrough"
      ],
      "metadata": {
        "id": "d7_Pon8TC1Nh"
      }
    },
    {
      "cell_type": "markdown",
      "source": [
        "## Utilizando la librería `merge-kit`"
      ],
      "metadata": {
        "id": "5sNpnRe9GnlN"
      }
    },
    {
      "cell_type": "code",
      "source": [
        "MODEL_NAME = \"NeuralPipe-7B-slerp\"\n",
        "yaml_config = \"\"\"\n",
        "slices:\n",
        "  - sources:\n",
        "      - model: OpenPipe/mistral-ft-optimized-1218\n",
        "        layer_range: [0, 32]\n",
        "      - model: mlabonne/NeuralHermes-2.5-Mistral-7B\n",
        "        layer_range: [0, 32]\n",
        "merge_method: slerp\n",
        "base_model: OpenPipe/mistral-ft-optimized-1218\n",
        "parameters:\n",
        "  t:\n",
        "    - filter: self_attn\n",
        "      value: [0, 0.5, 0.3, 0.7, 1]\n",
        "    - filter: mlp\n",
        "      value: [1, 0.5, 0.7, 0.3, 0]\n",
        "    - value: 0.5\n",
        "dtype: bfloat16\n",
        "\"\"\""
      ],
      "metadata": {
        "id": "f_A2YxhdHKAe"
      },
      "execution_count": null,
      "outputs": []
    },
    {
      "cell_type": "code",
      "source": [
        "# @title ### Run merge\n",
        "\n",
        "# @markdown ### Runtime type\n",
        "# @markdown Select your runtime (CPU, High RAM, GPU)\n",
        "\n",
        "runtime = \"CPU\" # @param [\"CPU\", \"CPU + High-RAM\", \"GPU\"]\n",
        "\n",
        "# @markdown ### Mergekit arguments\n",
        "# @markdown Use the `main` branch by default, [`mixtral`](https://github.com/cg123/mergekit/blob/mixtral/moe.md) if you want to create a Mixture of Experts.\n",
        "\n",
        "branch = \"main\" # @param [\"main\", \"mixtral\"]\n",
        "trust_remote_code = False # @param {type:\"boolean\"}\n",
        "\n",
        "# Install mergekit\n",
        "if branch == \"main\":\n",
        "    !git clone https://github.com/arcee-ai/mergekit.git\n",
        "    !cd mergekit && pip install -qqq -e . --progress-bar off\n",
        "elif branch == \"mixtral\":\n",
        "    !git clone -b mixtral https://github.com/arcee-ai/mergekit.git\n",
        "    !cd mergekit && pip install -qqq -e . --progress-bar off\n",
        "    !pip install -qqq -U transformers --progress-bar off\n",
        "\n",
        "# Save config as yaml file\n",
        "with open('config.yaml', 'w', encoding=\"utf-8\") as f:\n",
        "    f.write(yaml_config)\n",
        "\n",
        "# Base CLI\n",
        "if branch == \"main\":\n",
        "    cli = \"mergekit-yaml config.yaml merge --copy-tokenizer\"\n",
        "elif branch == \"mixtral\":\n",
        "    cli = \"mergekit-moe config.yaml merge --copy-tokenizer\"\n",
        "\n",
        "# Additional arguments\n",
        "if runtime == \"CPU\":\n",
        "    cli += \" --allow-crimes --out-shard-size 1B --lazy-unpickle\"\n",
        "elif runtime == \"GPU\":\n",
        "    cli += \" --cuda --low-cpu-memory\"\n",
        "if trust_remote_code:\n",
        "    cli += \" --trust-remote-code\"\n",
        "\n",
        "print(cli)\n",
        "\n",
        "# Merge models\n",
        "!{cli}"
      ],
      "metadata": {
        "colab": {
          "base_uri": "https://localhost:8080/",
          "height": 349
        },
        "cellView": "form",
        "id": "qtOLmdItTL9B",
        "outputId": "811ad15f-2931-4be7-eb23-043f1a35685f"
      },
      "execution_count": 1,
      "outputs": [
        {
          "output_type": "stream",
          "name": "stdout",
          "text": [
            "Cloning into 'mergekit'...\n",
            "remote: Enumerating objects: 2265, done.\u001b[K\n",
            "remote: Counting objects: 100% (1340/1340), done.\u001b[K\n",
            "remote: Compressing objects: 100% (528/528), done.\u001b[K\n",
            "remote: Total 2265 (delta 1064), reused 925 (delta 811), pack-reused 925\u001b[K\n",
            "Receiving objects: 100% (2265/2265), 641.54 KiB | 11.06 MiB/s, done.\n",
            "Resolving deltas: 100% (1580/1580), done.\n",
            "  Installing build dependencies ... \u001b[?25l\u001b[?25hcanceled\u001b[31mERROR: Operation cancelled by user\u001b[0m\u001b[31m\n",
            "\u001b[0m"
          ]
        },
        {
          "output_type": "error",
          "ename": "NameError",
          "evalue": "name 'yaml_config' is not defined",
          "traceback": [
            "\u001b[0;31m---------------------------------------------------------------------------\u001b[0m",
            "\u001b[0;31mNameError\u001b[0m                                 Traceback (most recent call last)",
            "\u001b[0;32m<ipython-input-1-fc4b9fea0183>\u001b[0m in \u001b[0;36m<cell line: 24>\u001b[0;34m()\u001b[0m\n\u001b[1;32m     23\u001b[0m \u001b[0;31m# Save config as yaml file\u001b[0m\u001b[0;34m\u001b[0m\u001b[0;34m\u001b[0m\u001b[0m\n\u001b[1;32m     24\u001b[0m \u001b[0;32mwith\u001b[0m \u001b[0mopen\u001b[0m\u001b[0;34m(\u001b[0m\u001b[0;34m'config.yaml'\u001b[0m\u001b[0;34m,\u001b[0m \u001b[0;34m'w'\u001b[0m\u001b[0;34m,\u001b[0m \u001b[0mencoding\u001b[0m\u001b[0;34m=\u001b[0m\u001b[0;34m\"utf-8\"\u001b[0m\u001b[0;34m)\u001b[0m \u001b[0;32mas\u001b[0m \u001b[0mf\u001b[0m\u001b[0;34m:\u001b[0m\u001b[0;34m\u001b[0m\u001b[0;34m\u001b[0m\u001b[0m\n\u001b[0;32m---> 25\u001b[0;31m     \u001b[0mf\u001b[0m\u001b[0;34m.\u001b[0m\u001b[0mwrite\u001b[0m\u001b[0;34m(\u001b[0m\u001b[0myaml_config\u001b[0m\u001b[0;34m)\u001b[0m\u001b[0;34m\u001b[0m\u001b[0;34m\u001b[0m\u001b[0m\n\u001b[0m\u001b[1;32m     26\u001b[0m \u001b[0;34m\u001b[0m\u001b[0m\n\u001b[1;32m     27\u001b[0m \u001b[0;31m# Base CLI\u001b[0m\u001b[0;34m\u001b[0m\u001b[0;34m\u001b[0m\u001b[0m\n",
            "\u001b[0;31mNameError\u001b[0m: name 'yaml_config' is not defined"
          ]
        }
      ]
    },
    {
      "cell_type": "code",
      "source": [
        "# @title ### Upload model to Hugging Face { display-mode: \"form\" }\n",
        "# @markdown Enter your HF username and the name of Colab secret that stores your [Hugging Face access token](https://huggingface.co/settings/tokens).\n",
        "username = 'mlabonne' # @param {type:\"string\"}\n",
        "token = 'HF_TOKEN' # @param {type:\"string\"}\n",
        "license = \"apache-2.0\" # @param [\"apache-2.0\", \"cc-by-nc-4.0\", \"mit\", \"openrail\"] {allow-input: true}\n",
        "\n",
        "!pip install -qU huggingface_hub\n",
        "\n",
        "import yaml\n",
        "\n",
        "from huggingface_hub import ModelCard, ModelCardData, HfApi\n",
        "from google.colab import userdata\n",
        "from jinja2 import Template\n",
        "\n",
        "if branch == \"main\":\n",
        "    template_text = \"\"\"\n",
        "---\n",
        "license: {{ license }}\n",
        "base_model:\n",
        "{%- for model in models %}\n",
        "  - {{ model }}\n",
        "{%- endfor %}\n",
        "tags:\n",
        "- merge\n",
        "- mergekit\n",
        "- lazymergekit\n",
        "{%- for model in models %}\n",
        "- {{ model }}\n",
        "{%- endfor %}\n",
        "---\n",
        "\n",
        "# {{ model_name }}\n",
        "\n",
        "{{ model_name }} is a merge of the following models using [LazyMergekit](https://colab.research.google.com/drive/1obulZ1ROXHjYLn6PPZJwRR6GzgQogxxb?usp=sharing):\n",
        "\n",
        "{%- for model in models %}\n",
        "* [{{ model }}](https://huggingface.co/{{ model }})\n",
        "{%- endfor %}\n",
        "\n",
        "## 🧩 Configuration\n",
        "\n",
        "```yaml\n",
        "{{- yaml_config -}}\n",
        "```\n",
        "\n",
        "## 💻 Usage\n",
        "\n",
        "```python\n",
        "!pip install -qU transformers accelerate\n",
        "\n",
        "from transformers import AutoTokenizer\n",
        "import transformers\n",
        "import torch\n",
        "\n",
        "model = \"{{ username }}/{{ model_name }}\"\n",
        "messages = [{\"role\": \"user\", \"content\": \"What is a large language model?\"}]\n",
        "\n",
        "tokenizer = AutoTokenizer.from_pretrained(model)\n",
        "prompt = tokenizer.apply_chat_template(messages, tokenize=False, add_generation_prompt=True)\n",
        "pipeline = transformers.pipeline(\n",
        "    \"text-generation\",\n",
        "    model=model,\n",
        "    torch_dtype=torch.float16,\n",
        "    device_map=\"auto\",\n",
        ")\n",
        "\n",
        "outputs = pipeline(prompt, max_new_tokens=256, do_sample=True, temperature=0.7, top_k=50, top_p=0.95)\n",
        "print(outputs[0][\"generated_text\"])\n",
        "```\n",
        "\"\"\"\n",
        "\n",
        "    # Create a Jinja template object\n",
        "    jinja_template = Template(template_text.strip())\n",
        "\n",
        "    # Get list of models from config\n",
        "    data = yaml.safe_load(yaml_config)\n",
        "    if \"models\" in data:\n",
        "        models = [data[\"models\"][i][\"model\"] for i in range(len(data[\"models\"])) if \"parameters\" in data[\"models\"][i]]\n",
        "    elif \"parameters\" in data:\n",
        "        models = [data[\"slices\"][0][\"sources\"][i][\"model\"] for i in range(len(data[\"slices\"][0][\"sources\"]))]\n",
        "    elif \"slices\" in data:\n",
        "        models = [data[\"slices\"][i][\"sources\"][0][\"model\"] for i in range(len(data[\"slices\"]))]\n",
        "    else:\n",
        "        raise Exception(\"No models or slices found in yaml config\")\n",
        "\n",
        "    # Fill the template\n",
        "    content = jinja_template.render(\n",
        "        model_name=MODEL_NAME,\n",
        "        models=models,\n",
        "        yaml_config=yaml_config,\n",
        "        username=username,\n",
        "    )\n",
        "\n",
        "elif branch == \"mixtral\":\n",
        "    template_text = \"\"\"\n",
        "---\n",
        "license: {{ license }}\n",
        "base_model:\n",
        "{%- for model in models %}\n",
        "  - {{ model }}\n",
        "{%- endfor %}\n",
        "tags:\n",
        "- moe\n",
        "- frankenmoe\n",
        "- merge\n",
        "- mergekit\n",
        "- lazymergekit\n",
        "{%- for model in models %}\n",
        "- {{ model }}\n",
        "{%- endfor %}\n",
        "---\n",
        "\n",
        "# {{ model_name }}\n",
        "\n",
        "{{ model_name }} is a Mixture of Experts (MoE) made with the following models using [LazyMergekit](https://colab.research.google.com/drive/1obulZ1ROXHjYLn6PPZJwRR6GzgQogxxb?usp=sharing):\n",
        "\n",
        "{%- for model in models %}\n",
        "* [{{ model }}](https://huggingface.co/{{ model }})\n",
        "{%- endfor %}\n",
        "\n",
        "## 🧩 Configuration\n",
        "\n",
        "```yaml\n",
        "{{- yaml_config -}}\n",
        "```\n",
        "\n",
        "## 💻 Usage\n",
        "\n",
        "```python\n",
        "!pip install -qU transformers bitsandbytes accelerate\n",
        "\n",
        "from transformers import AutoTokenizer\n",
        "import transformers\n",
        "import torch\n",
        "\n",
        "model = \"{{ username }}/{{ model_name }}\"\n",
        "\n",
        "tokenizer = AutoTokenizer.from_pretrained(model)\n",
        "pipeline = transformers.pipeline(\n",
        "    \"text-generation\",\n",
        "    model=model,\n",
        "    model_kwargs={\"torch_dtype\": torch.float16, \"load_in_4bit\": True},\n",
        ")\n",
        "\n",
        "messages = [{\"role\": \"user\", \"content\": \"Explain what a Mixture of Experts is in less than 100 words.\"}]\n",
        "prompt = pipeline.tokenizer.apply_chat_template(messages, tokenize=False, add_generation_prompt=True)\n",
        "outputs = pipeline(prompt, max_new_tokens=256, do_sample=True, temperature=0.7, top_k=50, top_p=0.95)\n",
        "print(outputs[0][\"generated_text\"])\n",
        "```\n",
        "\"\"\"\n",
        "\n",
        "    # Create a Jinja template object\n",
        "    jinja_template = Template(template_text.strip())\n",
        "\n",
        "    # Fill the template\n",
        "    data = yaml.safe_load(yaml_config)\n",
        "    models = [model['source_model'] for model in data['experts']]\n",
        "\n",
        "    content = jinja_template.render(\n",
        "        model_name=MODEL_NAME,\n",
        "        models=models,\n",
        "        yaml_config=yaml_config,\n",
        "        username=username,\n",
        "        license=license\n",
        "    )\n",
        "\n",
        "# Save the model card\n",
        "card = ModelCard(content)\n",
        "card.save('merge/README.md')\n",
        "\n",
        "# Defined in the secrets tab in Google Colab\n",
        "api = HfApi(token=userdata.get(token))\n",
        "\n",
        "# Upload merge folder\n",
        "api.create_repo(\n",
        "    repo_id=f\"{username}/{MODEL_NAME}\",\n",
        "    repo_type=\"model\",\n",
        "    exist_ok=True,\n",
        ")\n",
        "api.upload_folder(\n",
        "    repo_id=f\"{username}/{MODEL_NAME}\",\n",
        "    folder_path=\"merge\",\n",
        ")"
      ],
      "metadata": {
        "id": "9QDFYws9TNS5"
      },
      "execution_count": null,
      "outputs": []
    },
    {
      "cell_type": "markdown",
      "source": [
        "## Evaluando"
      ],
      "metadata": {
        "id": "3eVKvayJJBNR"
      }
    },
    {
      "cell_type": "code",
      "source": [
        "%%capture\n",
        "!git clone https://github.com/EleutherAI/lm-evaluation-harness\n",
        "!pip install -e lm-evaluation-harness"
      ],
      "metadata": {
        "id": "GzwQmF6KJhy5"
      },
      "execution_count": null,
      "outputs": []
    },
    {
      "cell_type": "code",
      "source": [
        "!python /content/lm-evaluation-harness/main.py \\\n",
        "    --model hf-causal \\\n",
        "    --model_args pretrained=unionai/RedPajama-INCITE-Chat-3B-v1-wikipedia \\\n",
        "    --tasks lambada_openai,hellaswag \\\n",
        "    --batch_size 16 \\\n",
        "    --device cuda"
      ],
      "metadata": {
        "id": "fqxOCFgiTxTB"
      },
      "execution_count": null,
      "outputs": []
    },
    {
      "cell_type": "markdown",
      "source": [],
      "metadata": {
        "id": "L7NQbk3IJkHH"
      }
    },
    {
      "cell_type": "markdown",
      "source": [
        "## Evolutionary Model Merging"
      ],
      "metadata": {
        "id": "PxMVppuaDXKH"
      }
    },
    {
      "cell_type": "markdown",
      "source": [],
      "metadata": {
        "id": "4Ru831DDJ4DH"
      }
    },
    {
      "cell_type": "code",
      "source": [],
      "metadata": {
        "id": "TEFYT6tLDZwB"
      },
      "execution_count": null,
      "outputs": []
    },
    {
      "cell_type": "markdown",
      "source": [
        "## Referencias"
      ],
      "metadata": {
        "id": "eqXi4Fo2GcME"
      }
    },
    {
      "cell_type": "code",
      "source": [],
      "metadata": {
        "id": "S39xmDSiGel_"
      },
      "execution_count": null,
      "outputs": []
    }
  ]
}